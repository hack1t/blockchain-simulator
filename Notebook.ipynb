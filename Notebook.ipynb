{
 "cells": [
  {
   "cell_type": "code",
   "execution_count": null,
   "metadata": {},
   "outputs": [],
   "source": [
    "import zmq\n",
    "import threading\n",
    "import time\n",
    "import hashlib\n",
    "import random\n",
    "from pow import proof_of_work\n",
    "from collections import deque\n",
    "#\n",
    "#import logging\n",
    "\n",
    "class StopMineException(Exception):\n",
    "    pass\n",
    "\n",
    "class Node(object):\n",
    "    \"\"\"docstring\"\"\"\n",
    "\n",
    "    ctx = None\n",
    "    psocket = None\n",
    "    lsocket = None\n",
    "\n",
    "\n",
    "    def __init__(self, ipaddr, port):\n",
    "        self.ipaddr = ipaddr\n",
    "        self.port = port\n",
    "        self.ctx = zmq.Context.instance()\n",
    "        self.psocket = self.ctx.socket(zmq.PUB)\n",
    "        self.lsocket = self.ctx.socket(zmq.SUB)\n",
    "        self.lsocket.setsockopt(zmq.SUBSCRIBE, b'')\n",
    "        self.balance = 0\n",
    "        self.stake = 0\n",
    "        self.peers = deque()\n",
    "\n",
    "    def connect(self):\n",
    "        if self.peers:\n",
    "            for ip in self.peers:\n",
    "                self.lsocket.connect(\"tcp://%s:9000\" % ip['ipaddr'])\n",
    "        else: # no peers\n",
    "            self.lsocket.connect(\"tcp://127.0.0.1:9000\")\n",
    "\n",
    "    def listen(self, k, e, bchain):\n",
    "        while True and not k.is_set():\n",
    "            try:\n",
    "                block_msg = self.lsocket.recv_string()\n",
    "                e.set()\n",
    "                print(block_msg)\n",
    "                # lock?\n",
    "                bchain.appendleft(block_msg)\n",
    "                e.clear()\n",
    "            except (zmq.ContextTerminated):\n",
    "                break\n",
    "\n",
    "    def bind(self):\n",
    "        self.psocket.bind(\"tcp://%s:%s\" % (self.ipaddr, self.port))\n",
    "\n",
    "    def close(self):\n",
    "        self.psocket.close(linger=0)\n",
    "        self.lsocket.close(linger=0)\n",
    "        self.ctx.term()\n",
    "\n",
    "    def addPeer(self, ipaddr):\n",
    "        peer = {'ipaddr': ipaddr}\n",
    "        if peer not in self.peers:\n",
    "            self.peers.appendleft(peer)\n",
    "            return True\n",
    "        else:\n",
    "            return False\n",
    "\n",
    "    def removePeer(self, ipaddr):\n",
    "        peer = {'ipaddr': ipaddr}\n",
    "        try:\n",
    "            self.peers.remove(peer)\n",
    "        except ValueError:\n",
    "            return False\n",
    "        return True\n",
    "\n",
    "    def getPeers(self):\n",
    "        return self.peers\n",
    "\n",
    "    def setBalance(self, value):\n",
    "        self.balance = value\n",
    "\n",
    "    def doConsensus(self, k, e, bchain):\n",
    "        name = threading.current_thread().getName()\n",
    "        while True and not k.is_set():\n",
    "            stop = e.is_set()\n",
    "            new_block = name + chr(random.randint(1,100)) + bchain[0]\n",
    "            (new_hash, nonce) = proof_of_work(new_block, 21, stop)\n",
    "            if new_hash != '':\n",
    "                bchain.appendleft('Mined: Block'+new_hash)\n",
    "                self.psocket.send_string(\"%s: Block %s\" % (name, new_hash))\n",
    "\n",
    "    def writeBlock(self):\n",
    "        pass\n",
    "\n",
    "    def readBlock(self):\n",
    "        pass\n",
    "\n",
    "    def checkBlock(self, e):\n",
    "        return True\n",
    "\n",
    "    def run(self, kill, e, bchain):\n",
    "        m1 = threading.Thread(name='Miner',target=self.doConsensus,\n",
    "         kwargs={'k': kill, 'e': e, 'bchain': bchain})\n",
    "        m1.start()\n",
    "        return [m1]"
   ]
  },
  {
   "cell_type": "markdown",
   "metadata": {},
   "source": [
    "# Instanciação do nó e conexão"
   ]
  },
  {
   "cell_type": "code",
   "execution_count": null,
   "metadata": {},
   "outputs": [],
   "source": [
    "bchain = deque()\n",
    "bchain.appendleft('')\n",
    "n = Node('127.0.0.1',9000)\n",
    "n.connect()\n",
    "n.bind()"
   ]
  },
  {
   "cell_type": "markdown",
   "metadata": {},
   "source": [
    "# Início das threads"
   ]
  },
  {
   "cell_type": "code",
   "execution_count": null,
   "metadata": {},
   "outputs": [],
   "source": [
    "kill = threading.Event()\n",
    "e = threading.Event()"
   ]
  },
  {
   "cell_type": "markdown",
   "metadata": {},
   "source": [
    "### Listen Thread"
   ]
  },
  {
   "cell_type": "code",
   "execution_count": null,
   "metadata": {},
   "outputs": [],
   "source": [
    "listen_thread = threading.Thread(target=n.listen,\n",
    "     kwargs={'k': kill, 'e': e, 'bchain': bchain})\n",
    "listen_thread.start()"
   ]
  },
  {
   "cell_type": "markdown",
   "metadata": {},
   "source": [
    "### Mining Thread"
   ]
  },
  {
   "cell_type": "code",
   "execution_count": null,
   "metadata": {},
   "outputs": [],
   "source": [
    "threads = n.run(kill, e, bchain)"
   ]
  },
  {
   "cell_type": "markdown",
   "metadata": {},
   "source": [
    "### Main Thread"
   ]
  },
  {
   "cell_type": "code",
   "execution_count": null,
   "metadata": {},
   "outputs": [],
   "source": [
    "try:\n",
    "    while (raw_input()) != 'exit':\n",
    "        pass\n",
    "except KeyboardInterrupt:\n",
    "        pass\n",
    "finally:\n",
    "        kill.set()\n",
    "        for t in threads:\n",
    "            t.join()\n",
    "        n.close()\n",
    "        print bchain"
   ]
  },
  {
   "cell_type": "code",
   "execution_count": 1,
   "metadata": {},
   "outputs": [],
   "source": [
    "!netstat -tan | grep 127.0.0.1:9000"
   ]
  },
  {
   "cell_type": "code",
   "execution_count": null,
   "metadata": {},
   "outputs": [],
   "source": []
  }
 ],
 "metadata": {
  "kernelspec": {
   "display_name": "Python 2",
   "language": "python",
   "name": "python2"
  },
  "language_info": {
   "codemirror_mode": {
    "name": "ipython",
    "version": 2
   },
   "file_extension": ".py",
   "mimetype": "text/x-python",
   "name": "python",
   "nbconvert_exporter": "python",
   "pygments_lexer": "ipython2",
   "version": "2.7.12"
  }
 },
 "nbformat": 4,
 "nbformat_minor": 2
}
